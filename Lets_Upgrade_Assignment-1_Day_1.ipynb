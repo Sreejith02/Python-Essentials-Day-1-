{
  "nbformat": 4,
  "nbformat_minor": 0,
  "metadata": {
    "colab": {
      "name": "Lets Upgrade_Assignment : Day-1.ipynb",
      "provenance": []
    },
    "kernelspec": {
      "name": "python3",
      "display_name": "Python 3"
    },
    "language_info": {
      "name": "python"
    }
  },
  "cells": [
    {
      "cell_type": "code",
      "metadata": {
        "colab": {
          "base_uri": "https://localhost:8080/"
        },
        "id": "RWDNfiHJwLxj",
        "outputId": "2a8e4e2a-e4d0-48be-c71c-dd82448f1ecb"
      },
      "source": [
        "x = input(\"Enter few numbers: \")\n",
        "str1 = x.split()\n",
        "List1 = [int(i) for i in str1]\n",
        "List1.sort()\n",
        "List1.reverse()\n",
        "print(List1)"
      ],
      "execution_count": 2,
      "outputs": [
        {
          "output_type": "stream",
          "text": [
            "Enter few numbers: 100 30000 45679 8 45 1 89 455 125 65489702\n",
            "[65489702, 45679, 30000, 455, 125, 100, 89, 45, 8, 1]\n"
          ],
          "name": "stdout"
        }
      ]
    }
  ]
}
