{
  "nbformat": 4,
  "nbformat_minor": 0,
  "metadata": {
    "colab": {
      "name": "Assignment  1 .ipynb",
      "provenance": []
    },
    "kernelspec": {
      "name": "python3",
      "display_name": "Python 3"
    },
    "language_info": {
      "name": "python"
    }
  },
  "cells": [
    {
      "cell_type": "code",
      "metadata": {
        "colab": {
          "base_uri": "https://localhost:8080/"
        },
        "id": "OzqpvV6Gp9LZ",
        "outputId": "72733b12-791a-45eb-9085-d3673bd0b1a3"
      },
      "source": [
        "# Question 1\n",
        "\n",
        "# Make a table and add a few rows (Name, email and your profile pics).\n",
        "\n",
        "li = [int(i) for i in input('enter values:').split()]\n",
        "print(li)\n",
        "li.reverse()\n",
        "print(li)"
      ],
      "execution_count": 13,
      "outputs": [
        {
          "output_type": "stream",
          "text": [
            "enter values:100 456 789 1235 50 85 9 1 0 65 1479 \n",
            "[100, 456, 789, 1235, 50, 85, 9, 1, 0, 65, 1479]\n",
            "[1479, 65, 0, 1, 9, 85, 50, 1235, 789, 456, 100]\n"
          ],
          "name": "stdout"
        }
      ]
    }
  ]
}